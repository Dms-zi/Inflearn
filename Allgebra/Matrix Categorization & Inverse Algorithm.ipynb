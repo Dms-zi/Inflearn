{
 "cells": [
  {
   "cell_type": "markdown",
   "id": "106b6b1b",
   "metadata": {},
   "source": [
    "# 행렬 성질로 구분"
   ]
  },
  {
   "cell_type": "markdown",
   "id": "2e6105bf",
   "metadata": {},
   "source": [
    "## 실수행렬(Real Matrix)\n",
    "### 대칭(Symmetric)\n",
    "- 양의정부호 행렬(positive definite)\n",
    "     x^T *Ax>0\n",
    "- 음의 정부호 행렬 (Negative definite)\n",
    "- 부정부호 행렬(Indefinite)\n",
    "### 반대칭(Non-symmetric)\n",
    "\n",
    "## 복소수행렬(Complex Matrix)\n",
    "### 에르미트(Hermitian) \n",
    " - A=A* A=not A^T\n",
    " - 양의 정부호 행렬(positive definite)\n",
    "     x*Ax>0\n",
    " - 음의 정부호 행렬\n",
    " - 부정부호 행렬\n",
    "### Non-Hermitian\n",
    " - R(x*Ax)\n",
    " - \n",
    "### Complex symmetric matrix\n",
    "- boundary integral equations\n",
    "- block symmetric daigonal\n",
    "## positive definite 풀이\n",
    " ### 콜레스키 분해(Cholesky decomposition)\n",
    " - A=R^TR=LL^T\n",
    " ### LDL 분해(LDL decomposition)\n",
    " - 삼각행렬\n",
    "     - UDU^T=LDL^T\n",
    "     - UDU*=LDL*\n",
    "     \n",
    "## 에르미트, 대칭행렬에서 definite 모를때 \n",
    " ### Daigonal pivoting methon\n",
    " - A=UDU^T=LDL^T (Block symmetric diagonal)\n",
    " - A=UDU*=LDL* (Block Hermitian diagonal)"
   ]
  },
  {
   "cell_type": "markdown",
   "id": "fb54f88a",
   "metadata": {},
   "source": [
    "# 행렬 모양으로 구분\n",
    "\n",
    "## Band Matrix\n",
    " ### bandwidth\n",
    " - tridaigonal matrix\n",
    " \n",
    "## 퇴플리츠 Toeplitz Matrix\n",
    " ### Levinson_Durbin recursion ~n^2\n",
    " \n",
    "## 순환행렬 Circulant Matrix\n",
    " - 이미지 시각화, 신호, 암호학 등\n",
    " - discrete Furuier transform\n",
    " - fast Fourier transform ~nlog(n)"
   ]
  },
  {
   "cell_type": "markdown",
   "id": "8b118664",
   "metadata": {},
   "source": [
    "# 수치해석(Iterative Methods)\n",
    "    - 야코비안,가우스요르단,SOR,BICG,GMRES"
   ]
  },
  {
   "cell_type": "markdown",
   "id": "a0ce52ff",
   "metadata": {},
   "source": [
    "# 역행렬 구하는 것보다 행렬방정식으로 풀어야 하는 이유"
   ]
  },
  {
   "cell_type": "markdown",
   "id": "9da51bdf",
   "metadata": {},
   "source": [
    "## 역행렬로 해를 찾음\n",
    " - a^-1 구할때 노력 ~n^3\n",
    " - a^-1^b 구할때 노력 ~n^2\n",
    " \n",
    "## Ax=b로 해를 찾음\n",
    " - 가우스 소거법 Ax=b를 푸는 노력 ~n^3\n",
    " - LU분해 ~n^3, LUx=b ~n^2\n",
    " \n",
    "## 수치적 정확도가 올라감\n",
    " - 컴퓨터에서 수를 제한된 소수점으로 표현하여 역행렬을 이용하면 오차 발생 가능성\n",
    " \n",
    "## 계산 속도가 올라감\n",
    " - 희소 행렬의 역행렬과 LU 분해를 했을 때 lu분해가 더 희소한 경우가 많음"
   ]
  },
  {
   "cell_type": "markdown",
   "id": "f4258e97",
   "metadata": {},
   "source": [
    "# Scipy linalg"
   ]
  },
  {
   "cell_type": "code",
   "execution_count": 9,
   "id": "f127b883",
   "metadata": {},
   "outputs": [],
   "source": [
    "from scipy import linalg\n",
    "import numpy as np"
   ]
  },
  {
   "cell_type": "markdown",
   "id": "8c723dd1",
   "metadata": {},
   "source": [
    "## 행렬식 구하기\n",
    "\n",
    "### 기본알고리즘 : LU decomposition\n",
    " - Lapack 함수: zgetrf(complex128) dgetrf(float64)"
   ]
  },
  {
   "cell_type": "code",
   "execution_count": 12,
   "id": "3a1292eb",
   "metadata": {},
   "outputs": [
    {
     "name": "stdout",
     "output_type": "stream",
     "text": [
      "118.0\n"
     ]
    }
   ],
   "source": [
    "A=np.array([[1,5,8],[2,3,4],[1,9,-2]])\n",
    "det = linalg.det(A)\n",
    "print(det)"
   ]
  },
  {
   "cell_type": "markdown",
   "id": "bb22725e",
   "metadata": {},
   "source": [
    "## 역행렬 구하기\n",
    "### 기본알고리즘: LU deconposition\n",
    "- solve LUA^-1 =1 (backward phase)\n",
    "- Lapack 함수: getrf(LU), getrf(inverse from triangluar matrix)"
   ]
  },
  {
   "cell_type": "code",
   "execution_count": 15,
   "id": "8c0f0c6c",
   "metadata": {},
   "outputs": [
    {
     "name": "stdout",
     "output_type": "stream",
     "text": [
      "[[-0.3559322   0.69491525 -0.03389831]\n",
      " [ 0.06779661 -0.08474576  0.10169492]\n",
      " [ 0.12711864 -0.03389831 -0.05932203]]\n"
     ]
    }
   ],
   "source": [
    "inv_a=linalg.inv(A)\n",
    "print(inv_a)\n",
    "# singular marix 에러(수치적)"
   ]
  },
  {
   "cell_type": "markdown",
   "id": "bb540925",
   "metadata": {},
   "source": [
    "## Ax=b 풀기\n",
    "### linalg.solve(A,b,assume_a=\"gen\") \n",
    " - gen(행렬 특성모름) ->LU 분해, gesv 함수\n",
    " - sym(대칭행렬)-> diagonal pivoting, sysv 함수(complex symmetric 가능) 에르미트X\n",
    " - her(에르미트 행렬) -> diagonal pivotiong(LDL*), hesv 함수\n",
    " - pos(양의 정부호 행렬) -> Cholesky decomposition, posv 함수\n",
    " - assume_a 는 행렬 특성 잘못넣어도 오류 표시 X"
   ]
  },
  {
   "cell_type": "code",
   "execution_count": 16,
   "id": "c554408d",
   "metadata": {},
   "outputs": [],
   "source": [
    "b = np.ones( (3,), dtype=np.float64 )\n",
    "\n",
    "A_sing = np.array( [ [1,3,4], [-4,2,-6], [-3,-2,-7] ], \n",
    "         dtype=np.float64)\n",
    "\n",
    "A_gen = np.array( [ [0,1,2], [1,0,3], [4,-3,8] ], \n",
    "        dtype=np.float64)\n",
    "\n",
    "A_sym = np.array( [ [1,2,1], [2,1,3], [1,3,1] ], \n",
    "        dtype=np.float64)\n",
    "\n",
    "A_sym_c = np.array( [ [1,2-1j,1+2j], [2-1j,1,3], [1+2j,3,1] ], \n",
    "          dtype=np.complex128)\n",
    "\n",
    "A_her = np.array( [ [1,2+1j,1-2j], [2-1j,1,3], [1+2j,3,1] ], \n",
    "        dtype=np.complex128)\n",
    "\n",
    "A_pos = np.array( [ [2,-1,0], [-1,2,-1], [0,-1,2] ], \n",
    "        dtype=np.float64)"
   ]
  },
  {
   "cell_type": "code",
   "execution_count": 21,
   "id": "ab4939a7",
   "metadata": {},
   "outputs": [
    {
     "name": "stdout",
     "output_type": "stream",
     "text": [
      "[1.5 2.  1.5]\n"
     ]
    }
   ],
   "source": [
    "x = linalg.solve(A_pos,b, assume_a=\"gen\")\n",
    "\n",
    "print(x)"
   ]
  },
  {
   "cell_type": "markdown",
   "id": "9e3938cd",
   "metadata": {},
   "source": [
    "## 삼각행렬로 풀기\n",
    "### 상삼각행렬\n",
    " - linalg.solve_triangular(A,b,lower=False)\n",
    " - trtrs 함수"
   ]
  },
  {
   "cell_type": "code",
   "execution_count": 23,
   "id": "4e397ed8",
   "metadata": {},
   "outputs": [
    {
     "name": "stdout",
     "output_type": "stream",
     "text": [
      "[ 1.     0.25  -2.    -4.125]\n"
     ]
    }
   ],
   "source": [
    "A = np.array([[1,0,0,0],[1,4,0,0],[5,0,1,0],[8,1,-2,2]],\n",
    "    dtype=np.float64)\n",
    "\n",
    "b = np.array([1,2,3,4],dtype=np.float64)\n",
    "\n",
    "x = linalg.solve_triangular(A,b,lower=True)\n",
    "\n",
    "print(x)"
   ]
  },
  {
   "cell_type": "markdown",
   "id": "f1cb2167",
   "metadata": {},
   "source": [
    "## 정확한 수치일까? Allclose\n",
    "### x= 수치적 계산으로 근사된 값\n",
    " - Ax-b 가 0에 가까운가 == Ax 와 b가 비슷한가"
   ]
  },
  {
   "cell_type": "code",
   "execution_count": 25,
   "id": "c10b8907",
   "metadata": {},
   "outputs": [
    {
     "name": "stdout",
     "output_type": "stream",
     "text": [
      "[1.5 2.  1.5]\n",
      "True\n",
      "True\n"
     ]
    }
   ],
   "source": [
    "b = np.ones( (3,), dtype=np.float64 )\n",
    "\n",
    "A = np.array( [ [2,-1,0], [-1,2,-1], [0,-1,2] ], \n",
    "        dtype=np.float64)\n",
    "\n",
    "x = linalg.solve(A,b,assume_a=\"pos\")\n",
    "\n",
    "print(x)\n",
    "\n",
    "zr = np.zeros((3,),dtype=np.float64)\n",
    "\n",
    "bool_close = np.allclose( A@x-b, zr )\n",
    "print(bool_close)\n",
    "\n",
    "#  Ax와 b를 비교 가능\n",
    "bool_close = np.allclose( A@x, b )\n",
    "print(bool_close)"
   ]
  },
  {
   "cell_type": "code",
   "execution_count": 49,
   "id": "80dd7d1d",
   "metadata": {},
   "outputs": [
    {
     "name": "stdout",
     "output_type": "stream",
     "text": [
      "[  3. -24.  30.]\n",
      "[1.5 2.  1.5]\n",
      "True\n"
     ]
    }
   ],
   "source": [
    "a=linalg.hilbert(3)\n",
    "inv_a=linalg.inv(a)\n",
    "b = np.ones( (3,), dtype=np.float64 )\n",
    "\n",
    "x1=inv_a@b\n",
    "x2=linalg.solve(A,b,assume_a=\"gen\")\n",
    "\n",
    "print(x1)\n",
    "print(x2)\n",
    "bool_close = np.allclose( A@x-b, A@x2-b )\n",
    "print(bool_close)"
   ]
  }
 ],
 "metadata": {
  "kernelspec": {
   "display_name": "Python 3 (ipykernel)",
   "language": "python",
   "name": "python3"
  },
  "language_info": {
   "codemirror_mode": {
    "name": "ipython",
    "version": 3
   },
   "file_extension": ".py",
   "mimetype": "text/x-python",
   "name": "python",
   "nbconvert_exporter": "python",
   "pygments_lexer": "ipython3",
   "version": "3.9.12"
  },
  "toc": {
   "base_numbering": 1,
   "nav_menu": {},
   "number_sections": true,
   "sideBar": true,
   "skip_h1_title": false,
   "title_cell": "Table of Contents",
   "title_sidebar": "Contents",
   "toc_cell": false,
   "toc_position": {},
   "toc_section_display": true,
   "toc_window_display": false
  }
 },
 "nbformat": 4,
 "nbformat_minor": 5
}
