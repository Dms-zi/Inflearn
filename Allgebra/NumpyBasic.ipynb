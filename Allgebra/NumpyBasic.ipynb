{
 "cells": [
  {
   "cell_type": "markdown",
   "id": "c5e9c107",
   "metadata": {},
   "source": [
    "# 행렬 정의,접근,타입변환\n",
    "- 2차원 행렬 np.array([ [],[],[] ])\n",
    "\n",
    "- 1차원 벡터 np.array([])"
   ]
  },
  {
   "cell_type": "code",
   "execution_count": 2,
   "id": "c855434e",
   "metadata": {},
   "outputs": [],
   "source": [
    "import numpy as np"
   ]
  },
  {
   "cell_type": "markdown",
   "id": "b902f030",
   "metadata": {},
   "source": [
    "## real matrix\n",
    "- double precision(float64) "
   ]
  },
  {
   "cell_type": "code",
   "execution_count": 3,
   "id": "e2789525",
   "metadata": {},
   "outputs": [],
   "source": [
    "a=np.array([[1,2.5,3],[-1,0,-2],[4,5.5,6]],dtype=np.float64)"
   ]
  },
  {
   "cell_type": "markdown",
   "id": "a16945b8",
   "metadata": {},
   "source": [
    "## complex matrix\n",
    "- 실,허수 분리 저장(complex128)\n",
    "\n",
    "- 허수:Xj \n",
    "\n",
    "- np.array([ [2+1j, 1-0j] ,[],[] ])"
   ]
  },
  {
   "cell_type": "code",
   "execution_count": 18,
   "id": "99cd1852",
   "metadata": {},
   "outputs": [],
   "source": [
    "b=np.array([[+1j,2,3],[4,5+0j,3]], dtype=np.complex128)"
   ]
  },
  {
   "cell_type": "markdown",
   "id": "c3ebd432",
   "metadata": {},
   "source": [
    "## shape(tuple)\n",
    "\n",
    "- a.shape  #(r,c) tuple , shape[0]==r\n",
    "\n",
    "-벡터.shape #(x, )"
   ]
  },
  {
   "cell_type": "code",
   "execution_count": 22,
   "id": "9a8019f6",
   "metadata": {},
   "outputs": [
    {
     "name": "stdout",
     "output_type": "stream",
     "text": [
      "(3, 3)\n",
      "3\n",
      "3\n"
     ]
    }
   ],
   "source": [
    "print(a.shape) \n",
    "print(a.shape[0])\n",
    "print(a.shape[1])"
   ]
  },
  {
   "cell_type": "markdown",
   "id": "aac61b0f",
   "metadata": {},
   "source": [
    "## ValueChange\n",
    "명시적 타입 변환 a.astype(dtype = np.complex128)\n",
    "\n",
    "- 허->실 실수 부분만 남김\n",
    "\n",
    "암묵적 타입변환 (행열 연산시 실행)\n",
    "\n",
    "- var[0,0]  ~ var[i,j]\n",
    "\n",
    "- 실수->실수 수정 가능, dtype=np.float64\n",
    "\n",
    "- 실->허 dtype=np.complex64 OR 허수 표현 포함\n"
   ]
  },
  {
   "cell_type": "code",
   "execution_count": null,
   "id": "3ad52b1f",
   "metadata": {},
   "outputs": [],
   "source": [
    "#(a[1,1]=0+0j 불가)\n",
    "a[1,1]=0"
   ]
  },
  {
   "cell_type": "code",
   "execution_count": 25,
   "id": "9807f6cf",
   "metadata": {},
   "outputs": [],
   "source": [
    "#typechange\n",
    "a=a.astype(dtype=np.complex128)\n",
    "b=b.astype(dtype=np.float64) #실수잘림\n",
    "\n",
    "# float+complex 연산시 complex128로 암묵적변환"
   ]
  },
  {
   "cell_type": "markdown",
   "id": "eca67f86",
   "metadata": {},
   "source": [
    "### 연습문제"
   ]
  },
  {
   "cell_type": "code",
   "execution_count": 37,
   "id": "8ea441a2",
   "metadata": {},
   "outputs": [
    {
     "name": "stdout",
     "output_type": "stream",
     "text": [
      "(3, 4)\n",
      "[[1. 2. 4. 1.]\n",
      " [2. 1. 3. 1.]\n",
      " [5. 0. 1. 4.]]\n"
     ]
    }
   ],
   "source": [
    "A=np.array([[1,2,4,1],[2,1,3,1],[5,2,1,4]], dtype=np.float64)\n",
    "print(A.shape)\n",
    "#A[1,2]=1+2i (error)\n",
    "A[2,1]=0\n",
    "print(A)"
   ]
  },
  {
   "cell_type": "markdown",
   "id": "1ef16f06",
   "metadata": {},
   "source": [
    "# 행렬 입출력(txt)"
   ]
  },
  {
   "cell_type": "markdown",
   "id": "4b8dd56c",
   "metadata": {},
   "source": [
    "## input\n",
    "\n",
    "- np.genfromtxt('파일이름.txt',dtype=데이터타입 수정 ,delimiter='구분방법')"
   ]
  },
  {
   "cell_type": "code",
   "execution_count": 43,
   "id": "e2ba1438",
   "metadata": {},
   "outputs": [
    {
     "name": "stdout",
     "output_type": "stream",
     "text": [
      "[[ 1.   2.4  3. ]\n",
      " [-1.2  3.3  4.3]\n",
      " [-1.3  0.2  0. ]]\n"
     ]
    }
   ],
   "source": [
    "a=np.genfromtxt('input1.txt',delimiter='',dtype=np.float64) #구분기호\n",
    "print(a)"
   ]
  },
  {
   "cell_type": "code",
   "execution_count": 46,
   "id": "3a93152d",
   "metadata": {},
   "outputs": [
    {
     "name": "stdout",
     "output_type": "stream",
     "text": [
      "[1.-2.j 3.+1.j 1.+0.j]\n"
     ]
    }
   ],
   "source": [
    "b=np.genfromtxt('cinput1.txt',delimiter=',',dtype=np.complex128)\n",
    "print(b)"
   ]
  },
  {
   "cell_type": "markdown",
   "id": "2e8e7e56",
   "metadata": {},
   "source": [
    "## formatting output\n",
    "- floating format : \"%0.4f\"\n",
    "\n",
    "- scientific format : \"%0.2e\" (15자리 이상 출력 무의미)\n",
    "\n",
    "\n",
    "- np.savetxt(\"파일이름\",행렬,fmt=\"%0.4f\",delimiter=\",\")"
   ]
  },
  {
   "cell_type": "code",
   "execution_count": 52,
   "id": "f6e82277",
   "metadata": {},
   "outputs": [],
   "source": [
    "np.savetxt('output1.txt',a,delimiter='',fmt=\"%0.4f\")"
   ]
  },
  {
   "cell_type": "markdown",
   "id": "5c0309fd",
   "metadata": {},
   "source": [
    "## custom\n",
    "- from print_lecture import print_custom as prt\n",
    "\n",
    "- prt(행렬,fmr=\"\",delimiter='')"
   ]
  },
  {
   "cell_type": "markdown",
   "id": "99f3fff3",
   "metadata": {},
   "source": [
    "## 연습문제"
   ]
  },
  {
   "cell_type": "code",
   "execution_count": 35,
   "id": "7f31ee72",
   "metadata": {},
   "outputs": [
    {
     "name": "stdout",
     "output_type": "stream",
     "text": [
      "[1. 2. 3.]\n",
      "(3,)\n"
     ]
    }
   ],
   "source": [
    "#practice1\n",
    "a=np.random.rand(4,6)\n",
    "np.savetxt('inp_pr1.txt',a,delimiter='',fmt=\"%0.1e\")\n",
    "\n",
    "#practice 2\n",
    "b=np.genfromtxt('inp_pr2a.txt',delimiter='')\n",
    "print(b)\n",
    "print(b.shape)"
   ]
  },
  {
   "cell_type": "markdown",
   "id": "1895b8b6",
   "metadata": {},
   "source": [
    "# numpy 기능"
   ]
  },
  {
   "cell_type": "markdown",
   "id": "f02a1e41",
   "metadata": {},
   "source": [
    "## eye,identity Band 개념\n",
    " - np.eye : band에 1채워넣기 (대각선)\n",
    " - a=np.eye(row,col,band id(0).dtype=선택) \n",
    " \n",
    " - np.identity: identity matrix\n",
    " - a=np.identity(3, dtype=선택)"
   ]
  },
  {
   "cell_type": "code",
   "execution_count": 11,
   "id": "c0baafb3",
   "metadata": {},
   "outputs": [
    {
     "name": "stdout",
     "output_type": "stream",
     "text": [
      "[[1. 0. 0. 0.]\n",
      " [0. 1. 0. 0.]\n",
      " [0. 0. 1. 0.]]\n",
      "[[0.+0.j 1.+0.j 0.+0.j]\n",
      " [0.+0.j 0.+0.j 1.+0.j]\n",
      " [0.+0.j 0.+0.j 0.+0.j]\n",
      " [0.+0.j 0.+0.j 0.+0.j]]\n",
      "[[1. 0. 0.]\n",
      " [0. 1. 0.]\n",
      " [0. 0. 1.]]\n"
     ]
    }
   ],
   "source": [
    "a1=np.eye(3,4,k=0,dtype=np.float64)\n",
    "a2=np.eye(4,3,k=1, dtype=np.complex128)\n",
    "a3=np.identity(3)\n",
    "\n",
    "print(a1)\n",
    "print(a2)\n",
    "print(a3)"
   ]
  },
  {
   "cell_type": "markdown",
   "id": "fe1708dc",
   "metadata": {},
   "source": [
    "## tri 삼각행렬\n",
    "- np.tri: lower triangular matrix nonzero entry=1  (k<= band id) \n"
   ]
  },
  {
   "cell_type": "code",
   "execution_count": 15,
   "id": "8b43f5e1",
   "metadata": {},
   "outputs": [
    {
     "name": "stdout",
     "output_type": "stream",
     "text": [
      "[[0. 0. 0.]\n",
      " [1. 0. 0.]\n",
      " [1. 1. 0.]\n",
      " [1. 1. 1.]]\n",
      "[[1. 0. 0. 0.]\n",
      " [1. 1. 0. 0.]\n",
      " [1. 1. 1. 0.]\n",
      " [1. 1. 1. 1.]]\n"
     ]
    }
   ],
   "source": [
    "t1=np.tri(4,3,k=-1)\n",
    "t2=np.tri(4,4, k=0)\n",
    "print(t1)\n",
    "print(t2)"
   ]
  },
  {
   "cell_type": "markdown",
   "id": "c0728de9",
   "metadata": {},
   "source": [
    "## zeros, ones, full\n",
    "- np.zeros:0으로 채움 np.zeros(shape(tuple))\n",
    "-np.ones:1로 채움 np.ones(shape(tuple))\n",
    "-np.full:지정값으로 채움 np.full(shape(tuple),value)"
   ]
  },
  {
   "cell_type": "code",
   "execution_count": 24,
   "id": "5e6ed70f",
   "metadata": {},
   "outputs": [
    {
     "name": "stdout",
     "output_type": "stream",
     "text": [
      "[[0.+0.j 0.+0.j 0.+0.j]\n",
      " [0.+0.j 0.+0.j 0.+0.j]]\n",
      "[[1. 1. 1.]\n",
      " [1. 1. 1.]]\n",
      "[[1.+1.j 1.+1.j 1.+1.j]\n",
      " [1.+1.j 1.+1.j 1.+1.j]\n",
      " [1.+1.j 1.+1.j 1.+1.j]]\n"
     ]
    }
   ],
   "source": [
    "sh=(2,3)\n",
    "zr=np.zeros(sh, dtype=np.complex128)\n",
    "on=np.ones(sh)\n",
    "fu=np.full((3,3),1+1j) #vector (5,) 가능\n",
    "\n",
    "print(zr)\n",
    "print(on)\n",
    "print(fu)"
   ]
  },
  {
   "cell_type": "markdown",
   "id": "eeea4c0b",
   "metadata": {},
   "source": [
    "## random\n",
    "- np.random.rand ==> real matrix(np.float64) , between 0,1\n",
    "- np.random.rand(row,col) "
   ]
  },
  {
   "cell_type": "code",
   "execution_count": 27,
   "id": "5f305701",
   "metadata": {},
   "outputs": [
    {
     "name": "stdout",
     "output_type": "stream",
     "text": [
      "[[0.9835509  0.56961365 0.55460027 0.80958942]\n",
      " [0.9811221  0.44561729 0.21621562 0.72490515]\n",
      " [0.41024044 0.29023715 0.31590322 0.42708394]]\n"
     ]
    }
   ],
   "source": [
    "ran=np.random.rand(3,4)\n",
    "print(ran)"
   ]
  },
  {
   "cell_type": "markdown",
   "id": "62ac04e4",
   "metadata": {},
   "source": [
    "## 연습문제"
   ]
  },
  {
   "cell_type": "code",
   "execution_count": 36,
   "id": "ea1c3932",
   "metadata": {},
   "outputs": [
    {
     "name": "stdout",
     "output_type": "stream",
     "text": [
      "[[0.67035675 0.55565126 0.81137229]\n",
      " [0.75180345 0.75387227 0.63970379]\n",
      " [0.78221491 0.75838188 0.23798209]]\n"
     ]
    }
   ],
   "source": [
    "#practice 1\n",
    "f1=np.identity(20)\n",
    "np.savetxt('f1output.txt',f1,delimiter='',fmt=\"%0.1f\")\n",
    "\n",
    "#practice 2\n",
    "r1=np.random.rand(3,3)\n",
    "r1.astype(dtype=np.complex128)\n",
    "print(r1)"
   ]
  },
  {
   "cell_type": "markdown",
   "id": "3be92cfd",
   "metadata": {},
   "source": [
    "# 행렬 기본조작1"
   ]
  },
  {
   "cell_type": "markdown",
   "id": "8a5d6250",
   "metadata": {},
   "source": [
    "## copy (카피)\n",
    "- 행렬을 대입했을때 두 행렬이 같은 메모리 참조(복사X)\n",
    "- b=np.copy(a)"
   ]
  },
  {
   "cell_type": "code",
   "execution_count": 42,
   "id": "648b1584",
   "metadata": {},
   "outputs": [
    {
     "name": "stdout",
     "output_type": "stream",
     "text": [
      "[[ 1.   2.5  3. ]\n",
      " [-1.   0.  -2. ]\n",
      " [ 4.   5.5  6. ]]\n",
      "[[ 1.   2.5  3. ]\n",
      " [-1.   1.  -2. ]\n",
      " [ 4.   5.5  6. ]]\n"
     ]
    }
   ],
   "source": [
    "a=np.array([[1,2.5,3],[-1,1,-2],[4,5.5,6]],dtype=np.float64)\n",
    "b=np.copy(a)\n",
    "a[1,1]=0.0\n",
    "\n",
    "print(a)\n",
    "print(b)"
   ]
  },
  {
   "cell_type": "markdown",
   "id": "3f9da5e6",
   "metadata": {},
   "source": [
    "## reshape (공유)\n",
    "- b=np.reshape(a,tuple vector OR shape) =>a원본 그대로, 같은 메모리공간 참조\n",
    "- all entry 개수 맞아야함 3,2 -> 2,3 OR 6"
   ]
  },
  {
   "cell_type": "code",
   "execution_count": 46,
   "id": "17df6e1f",
   "metadata": {},
   "outputs": [
    {
     "name": "stdout",
     "output_type": "stream",
     "text": [
      "[[ 1.   2.5  3. ]\n",
      " [-1.   1.  -2. ]]\n",
      "[ 1.   2.5  3.  -1.   1.  -2. ]\n",
      "[[ 1.   2.5]\n",
      " [ 3.  -1. ]\n",
      " [ 1.  -2. ]]\n"
     ]
    }
   ],
   "source": [
    "a=np.array([[1,2.5,3],[-1,1,-2]],dtype=np.float64)\n",
    "b=np.reshape(a,6)\n",
    "c=np.reshape(a,(3,2))\n",
    "\n",
    "print(a)\n",
    "print(b)\n",
    "print(c)"
   ]
  },
  {
   "cell_type": "markdown",
   "id": "f14ffa72",
   "metadata": {},
   "source": [
    "## tril, triu (카피)\n",
    "-b=np.tril(a,k=band_id)   Band id 포함 lower 부분 copy\n",
    "\n",
    "-b=np.triu(a,k=band_id)   Band id 포함 upper 부분 copy"
   ]
  },
  {
   "cell_type": "code",
   "execution_count": 53,
   "id": "6571d05e",
   "metadata": {},
   "outputs": [
    {
     "name": "stdout",
     "output_type": "stream",
     "text": [
      "[[1 2 3]\n",
      " [4 5 6]\n",
      " [7 8 9]]\n",
      "[[1 0 0]\n",
      " [4 5 0]\n",
      " [7 8 9]]\n"
     ]
    }
   ],
   "source": [
    "a=np.array([[1,2,3,],[4,5,6],[7,8,9]])\n",
    "b=np.tril(a,k=0)\n",
    "print(a)\n",
    "print(b)"
   ]
  },
  {
   "cell_type": "markdown",
   "id": "867992b4",
   "metadata": {},
   "source": [
    "## diag (공유)\n",
    "- band 뽑아 벡터로 만들기 READ-ONLY 편집불가\n",
    "- b=np.diag(a, k=band_id)\n",
    "- 벡터를 받았을 때 정사각형 행렬 생성 (생성한 정사각형 행렬은 독립메모리)"
   ]
  },
  {
   "cell_type": "code",
   "execution_count": 56,
   "id": "414661bc",
   "metadata": {},
   "outputs": [
    {
     "name": "stdout",
     "output_type": "stream",
     "text": [
      "[1 5 9]\n"
     ]
    }
   ],
   "source": [
    "b=np.diag(a, k=0)\n",
    "print(b)"
   ]
  },
  {
   "cell_type": "code",
   "execution_count": 61,
   "id": "d9dae316",
   "metadata": {},
   "outputs": [
    {
     "name": "stdout",
     "output_type": "stream",
     "text": [
      "[[0 0 0 0 0]\n",
      " [1 0 0 0 0]\n",
      " [0 2 0 0 0]\n",
      " [0 0 3 0 0]\n",
      " [0 0 0 4 0]]\n"
     ]
    }
   ],
   "source": [
    "b=np.array([1,2,3,4])\n",
    "a=np.diag(b,k=-1)\n",
    "print(a)"
   ]
  },
  {
   "cell_type": "markdown",
   "id": "4e69792f",
   "metadata": {},
   "source": [
    "## diagflat (카피)\n",
    "- np.diagflat(array, k=band_id)\n",
    "- array를 벡터화 한 다음 정사각형 행렬 생성"
   ]
  },
  {
   "cell_type": "code",
   "execution_count": 69,
   "id": "ca509ac2",
   "metadata": {},
   "outputs": [
    {
     "name": "stdout",
     "output_type": "stream",
     "text": [
      "[[1 3]\n",
      " [2 0]]\n",
      "[[1 0 0 0]\n",
      " [0 3 0 0]\n",
      " [0 0 2 0]\n",
      " [0 0 0 4]]\n"
     ]
    }
   ],
   "source": [
    "M=np.array([[1,3],[2,4]])\n",
    "d=np.diagflat(M,k=0)\n",
    "\n",
    "M[1,1]=0\n",
    "print(M)\n",
    "print(d)"
   ]
  },
  {
   "cell_type": "markdown",
   "id": "b098a53d",
   "metadata": {},
   "source": [
    "## trace\n",
    "- np.trace (a, offset=band_id) \n",
    "- band_id entry 더한 값 OR 0이거나 생략시 주대각선 합"
   ]
  },
  {
   "cell_type": "code",
   "execution_count": 70,
   "id": "661b2682",
   "metadata": {},
   "outputs": [
    {
     "name": "stdout",
     "output_type": "stream",
     "text": [
      "10\n"
     ]
    }
   ],
   "source": [
    "val=np.trace(a,offset=-1)\n",
    "print(val)"
   ]
  },
  {
   "cell_type": "markdown",
   "id": "bb16909f",
   "metadata": {},
   "source": [
    "## flatten()(공유), ravel (카피)\n",
    "- b=a.flatten() => 행렬 a를 벡터화해서 copy\n",
    "- b=a.ravel() => 행렬 a를 벡터화해서 공유"
   ]
  },
  {
   "cell_type": "code",
   "execution_count": 75,
   "id": "1958097a",
   "metadata": {},
   "outputs": [
    {
     "name": "stdout",
     "output_type": "stream",
     "text": [
      "[[1 2 3]\n",
      " [4 0 6]\n",
      " [7 8 9]]\n",
      "[1 2 3 4 5 6 7 8 9]\n",
      "[1 2 3 4 0 6 7 8 9]\n"
     ]
    }
   ],
   "source": [
    "a=np.array([[1,2,3,],[4,5,6],[7,8,9]])\n",
    "b=a.flatten()\n",
    "c=a.ravel()\n",
    "\n",
    "a[1,1]=0\n",
    "\n",
    "print(a)\n",
    "print(b)\n",
    "print(c)"
   ]
  },
  {
   "cell_type": "markdown",
   "id": "d4e32a9c",
   "metadata": {},
   "source": [
    "## 연습문제"
   ]
  },
  {
   "cell_type": "code",
   "execution_count": 97,
   "id": "5fa2e380",
   "metadata": {},
   "outputs": [
    {
     "name": "stdout",
     "output_type": "stream",
     "text": [
      "[[1. 2. 3.]\n",
      " [4. 5. 6.]\n",
      " [7. 8. 9.]\n",
      " [0. 1. 2.]\n",
      " [3. 4. 5.]]\n",
      "[[1. 2. 3.]\n",
      " [0. 5. 6.]\n",
      " [0. 0. 9.]\n",
      " [0. 0. 0.]\n",
      " [0. 0. 0.]]\n",
      "[1. 2. 3. 0. 5. 6. 0. 0. 9. 0. 0. 0. 0. 0. 0.]\n",
      "[[1. 0. 0. 0. 0. 0. 0. 0. 0. 0. 0. 0. 0. 0. 0.]\n",
      " [0. 2. 0. 0. 0. 0. 0. 0. 0. 0. 0. 0. 0. 0. 0.]\n",
      " [0. 0. 3. 0. 0. 0. 0. 0. 0. 0. 0. 0. 0. 0. 0.]\n",
      " [0. 0. 0. 0. 0. 0. 0. 0. 0. 0. 0. 0. 0. 0. 0.]\n",
      " [0. 0. 0. 0. 5. 0. 0. 0. 0. 0. 0. 0. 0. 0. 0.]\n",
      " [0. 0. 0. 0. 0. 6. 0. 0. 0. 0. 0. 0. 0. 0. 0.]\n",
      " [0. 0. 0. 0. 0. 0. 0. 0. 0. 0. 0. 0. 0. 0. 0.]\n",
      " [0. 0. 0. 0. 0. 0. 0. 0. 0. 0. 0. 0. 0. 0. 0.]\n",
      " [0. 0. 0. 0. 0. 0. 0. 0. 9. 0. 0. 0. 0. 0. 0.]\n",
      " [0. 0. 0. 0. 0. 0. 0. 0. 0. 0. 0. 0. 0. 0. 0.]\n",
      " [0. 0. 0. 0. 0. 0. 0. 0. 0. 0. 0. 0. 0. 0. 0.]\n",
      " [0. 0. 0. 0. 0. 0. 0. 0. 0. 0. 0. 0. 0. 0. 0.]\n",
      " [0. 0. 0. 0. 0. 0. 0. 0. 0. 0. 0. 0. 0. 0. 0.]\n",
      " [0. 0. 0. 0. 0. 0. 0. 0. 0. 0. 0. 0. 0. 0. 0.]\n",
      " [0. 0. 0. 0. 0. 0. 0. 0. 0. 0. 0. 0. 0. 0. 0.]]\n",
      "26.0\n"
     ]
    }
   ],
   "source": [
    "#practixe 1\n",
    "p1=np.genfromtxt('inp_pr1.txt',delimiter='')\n",
    "\n",
    "pco=np.copy(np.reshape(p1,(5,3)))\n",
    "bt=np.triu(pco,k=0)\n",
    "btre=np.copy(np.reshape(bt,15))\n",
    "bts=np.diagflat(btre,k=0)\n",
    "tr=np.trace(bts,offset=0)\n",
    "\n",
    "print(pco)\n",
    "print(bt)\n",
    "print(btre)\n",
    "print(bts)\n",
    "print(tr)"
   ]
  },
  {
   "cell_type": "markdown",
   "id": "20a3b327",
   "metadata": {},
   "source": [
    "# 행렬 기본조작 2"
   ]
  },
  {
   "cell_type": "markdown",
   "id": "fbf30436",
   "metadata": {},
   "source": [
    "## hstack(수평), vstack(수직)\n",
    "### 행렬\n",
    "- np.hstack(tuple) => 행(row,shape[0])개수 같아야함 \n",
    "- np.vstack(tuple) => 열(col,shape[1]) 개수 같아야함\n",
    "\n",
    "### 벡터\n",
    "- np.hstack(tuple) => 더 길어진 벡터 (row)\n",
    "- np.vstack(tuple) => 수직으로 쌓아 행렬 생성\n",
    "\n",
    "### 혼합\n",
    "- np.vstack(tuple)"
   ]
  },
  {
   "cell_type": "code",
   "execution_count": 100,
   "id": "b25f7b74",
   "metadata": {},
   "outputs": [
    {
     "name": "stdout",
     "output_type": "stream",
     "text": [
      "[[1 2 3 7 6 8]\n",
      " [2 3 4 2 6 3]]\n"
     ]
    }
   ],
   "source": [
    "a=np.array([[1,2,3],[2,3,4]])\n",
    "b=np.array([[7,6,8],[2,6,3]])\n",
    "\n",
    "new=np.hstack((a,b))\n",
    "print(new)"
   ]
  },
  {
   "cell_type": "markdown",
   "id": "d2b2634c",
   "metadata": {},
   "source": [
    "## transpose (공유)\n",
    "- b=a.transpose() \n",
    "- 벡터일때는 그대로 나옴"
   ]
  },
  {
   "cell_type": "code",
   "execution_count": 102,
   "id": "f0eee2b2",
   "metadata": {},
   "outputs": [
    {
     "name": "stdout",
     "output_type": "stream",
     "text": [
      "[[1 2]\n",
      " [2 3]\n",
      " [3 4]]\n"
     ]
    }
   ],
   "source": [
    "b=a.transpose()\n",
    "print(b)"
   ]
  },
  {
   "cell_type": "markdown",
   "id": "a41a0a0a",
   "metadata": {},
   "source": [
    "## real(공유), imag(공유), conjugate()(카피)\n",
    "- b.real  실수\n",
    "-b.imag 허수( 실수행렬,벡터)\n",
    "-b=a.conjugate()"
   ]
  },
  {
   "cell_type": "code",
   "execution_count": 108,
   "id": "60e05df4",
   "metadata": {},
   "outputs": [
    {
     "name": "stdout",
     "output_type": "stream",
     "text": [
      "[[100.   3.   1.]\n",
      " [  1.   2.   7.]]\n",
      "[[ 1.  1.  0.]\n",
      " [ 2. -1.  0.]]\n",
      "[[1.+2.j 3.-1.j 1.-0.j]\n",
      " [1.-2.j 2.+1.j 7.-0.j]]\n"
     ]
    }
   ],
   "source": [
    "a=np.array([[1-2j,3+1j,1],[1+2j,2-1j,7]])\n",
    "\n",
    "ar=a.real\n",
    "ai=a.imag\n",
    "ac=a.conjugate()\n",
    "\n",
    "a[0,0]=100+1j\n",
    "print(ar)\n",
    "print(ai)\n",
    "print(ac)"
   ]
  },
  {
   "cell_type": "markdown",
   "id": "99a8b71d",
   "metadata": {},
   "source": [
    "## Multiplication\n",
    "### Scalar \n",
    "- a*b\n",
    "\n",
    "### Matrix & Matrix-vector product\n",
    "- a@b\n",
    "- np.matmul(A,B) A의 행개수와 B의 열 개수가 같아야함\n"
   ]
  },
  {
   "cell_type": "code",
   "execution_count": 111,
   "id": "7af3e483",
   "metadata": {},
   "outputs": [
    {
     "name": "stdout",
     "output_type": "stream",
     "text": [
      "[[300.+3.j   9.+3.j   3.+0.j]\n",
      " [  3.+6.j   6.-3.j  21.+0.j]]\n",
      "[[112.-200.j]\n",
      " [ 29.  -4.j]]\n"
     ]
    }
   ],
   "source": [
    "r=3\n",
    "result=a*r\n",
    "\n",
    "b=np.array([[1-2j],[2-1j],[3]])\n",
    "\n",
    "result2=a@b\n",
    "\n",
    "print(result)\n",
    "print(result2)"
   ]
  },
  {
   "cell_type": "markdown",
   "id": "c74325c8",
   "metadata": {},
   "source": [
    "## vdot\n",
    "- inner product (내적)\n",
    "- re=np.vdot(u,v) ->complex 일때 conjugate 빠짐\n"
   ]
  },
  {
   "cell_type": "markdown",
   "id": "62d40c52",
   "metadata": {},
   "source": [
    "## Norm (1,2,inf)\n",
    "-from scipy import linalg"
   ]
  },
  {
   "cell_type": "markdown",
   "id": "7afa68b3",
   "metadata": {},
   "source": [
    "## 인덱싱으로 행렬 일부 뽑기 (공유)\n",
    "-sub=a[1:3,1:4] => row(1,2) col(1,2,3)인 행렬"
   ]
  },
  {
   "cell_type": "markdown",
   "id": "1b0f0df2",
   "metadata": {},
   "source": [
    "## 연습문제"
   ]
  },
  {
   "cell_type": "code",
   "execution_count": 134,
   "id": "550d4ae8",
   "metadata": {},
   "outputs": [
    {
     "name": "stdout",
     "output_type": "stream",
     "text": [
      "[[ 2  7 12 -2]\n",
      " [ 3  8 13 -3]\n",
      " [ 4  9 14 -4]]\n",
      "[201 224 247]\n"
     ]
    }
   ],
   "source": [
    "#practice 1\n",
    "a=np.array([[1,2,3,4,5],[6,7,8,9,10],[11,12,13,14,15],[-1,-2,-3,-4,-5]])\n",
    "\n",
    "v1=a[0:4,1]\n",
    "v2=a[0:4,2]\n",
    "v3=a[0:4,3]\n",
    "\n",
    "b=np.vstack((v1,v2,v3))\n",
    "result=b@v1\n",
    "\n",
    "print(b)\n",
    "print(result)"
   ]
  },
  {
   "cell_type": "markdown",
   "id": "370340f7",
   "metadata": {},
   "source": [
    "# 행렬 기본조작 3"
   ]
  },
  {
   "cell_type": "markdown",
   "id": "601db5a6",
   "metadata": {},
   "source": [
    "## 덧셈,뺄셈 (shape 동일)\n",
    "- c=a+b\n",
    "- c=a-b"
   ]
  },
  {
   "cell_type": "code",
   "execution_count": 120,
   "id": "f254a063",
   "metadata": {},
   "outputs": [
    {
     "name": "stdout",
     "output_type": "stream",
     "text": [
      "[[ 2.  1.  0.  0.  0.]\n",
      " [-1.  2.  1.  0.  0.]\n",
      " [ 0. -1.  2.  1.  0.]\n",
      " [ 0.  0. -1.  2.  1.]\n",
      " [ 0.  0.  0. -1.  2.]]\n"
     ]
    }
   ],
   "source": [
    "v1=np.diag((np.ones((4,))*(-1)),k=-1)\n",
    "v2=np.diag(np.ones((5,))*2)\n",
    "v3=np.diag(np.ones((4,)),k=1)\n",
    "\n",
    "a=v1+v2+v3\n",
    "\n",
    "print(a)"
   ]
  },
  {
   "cell_type": "markdown",
   "id": "d1cc0307",
   "metadata": {},
   "source": [
    "## Scalar+Matrix\n",
    "- re=a+r\n",
    "- all entry 에 r 더하기"
   ]
  },
  {
   "cell_type": "code",
   "execution_count": 122,
   "id": "27cdd2e9",
   "metadata": {},
   "outputs": [
    {
     "name": "stdout",
     "output_type": "stream",
     "text": [
      "[[4. 3. 2. 2. 2.]\n",
      " [1. 4. 3. 2. 2.]\n",
      " [2. 1. 4. 3. 2.]\n",
      " [2. 2. 1. 4. 3.]\n",
      " [2. 2. 2. 1. 4.]]\n"
     ]
    }
   ],
   "source": [
    "r=2\n",
    "re=a+r\n",
    "\n",
    "print(re)"
   ]
  },
  {
   "cell_type": "markdown",
   "id": "ad4e9223",
   "metadata": {},
   "source": [
    "## Matrix OR Vector*Matrix  OR /  \n",
    "- 행렬의 열개수와 벡터의 사이즈 동일\n",
    "- re=a*b\n",
    "- all entry 각각 곱하기 \n",
    "-2x2 * 2size 벡터일때 shape[1]에 벡터 곱함 , 나누기는 모두"
   ]
  },
  {
   "cell_type": "markdown",
   "id": "6f965345",
   "metadata": {},
   "source": [
    "## 행렬 일부 뽑아 행렬 만들기(카피)\n",
    "- w= a[[1,2,0,3]:] -> 행 순서\n",
    "- w= a[:[0,1,2,3]] -> 열 순서\n",
    "- w= a[[1,2,0,3]:][:[0,1,2,3]] -> 행,열 순서"
   ]
  }
 ],
 "metadata": {
  "kernelspec": {
   "display_name": "Python 3 (ipykernel)",
   "language": "python",
   "name": "python3"
  },
  "language_info": {
   "codemirror_mode": {
    "name": "ipython",
    "version": 3
   },
   "file_extension": ".py",
   "mimetype": "text/x-python",
   "name": "python",
   "nbconvert_exporter": "python",
   "pygments_lexer": "ipython3",
   "version": "3.9.12"
  },
  "toc": {
   "base_numbering": 1,
   "nav_menu": {},
   "number_sections": true,
   "sideBar": true,
   "skip_h1_title": false,
   "title_cell": "Table of Contents",
   "title_sidebar": "Contents",
   "toc_cell": false,
   "toc_position": {},
   "toc_section_display": true,
   "toc_window_display": true
  }
 },
 "nbformat": 4,
 "nbformat_minor": 5
}
